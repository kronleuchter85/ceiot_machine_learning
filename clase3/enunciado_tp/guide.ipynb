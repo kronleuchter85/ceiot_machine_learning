{
 "cells": [
  {
   "cell_type": "code",
   "execution_count": null,
   "metadata": {},
   "outputs": [],
   "source": [
    "import pandas as pd\n",
    "import numpy as np\n",
    "import matplotlib.pyplot as plt\n",
    "import seaborn as sns\n",
    "sns.set()"
   ]
  },
  {
   "cell_type": "markdown",
   "metadata": {},
   "source": [
    "# Ejercicio de clasificación para entregar\n",
    "\n",
    "Vamos a trabajar con el dataset de vinos proveniente de [Kaggle](https://www.kaggle.com/datasets/rakeshrau/social-network-ads). El dataset contiene proviene con datos de campaña de publicidad en una red social. Se cuenta con variables de los usuarios que tuvieron sujetos a la campaña. Se busca poder predecir dado un usuario con datos socioseconomicos si va a comprar o no el producto. \n",
    "\n",
    "OBS: Completar las celdas vacias o las que estan incompletas si se observa `____` es para que completen."
   ]
  },
  {
   "cell_type": "code",
   "execution_count": null,
   "metadata": {},
   "outputs": [],
   "source": [
    "# Leemos el dataset\n",
    "social_df = ____.read_csv(\"____\")"
   ]
  },
  {
   "cell_type": "markdown",
   "metadata": {},
   "source": [
    "Vamos realizando los diferentes puntos pedidos en el ejercicio.\n",
    "\n",
    "1. Lea el dataset como un DataFrame de Pandas. Realice un estudio de variables. Como se llaman y que están midiendo exactamente. Además, analice que tipo de variables son, cuál es el rango de estas variables y cómo se distribuyen (histograma)."
   ]
  },
  {
   "cell_type": "markdown",
   "metadata": {},
   "source": [
    "Vemos las primeras cinco filas del dataset"
   ]
  },
  {
   "cell_type": "code",
   "execution_count": null,
   "metadata": {},
   "outputs": [],
   "source": [
    "social_df.____"
   ]
  },
  {
   "cell_type": "markdown",
   "metadata": {},
   "source": [
    "Los atributos del dataset son:\n",
    "- `____`: Cada persona tiene una identificación única a partir de la cual podemos identificarla de forma única.\n",
    "- `____`: Es el genero de la persona. El producto puede ser interesante dependiendo del genero.\n",
    "- `____`: Edad de la persona. Porque el producto puede ser útil solo para algunas edades.\n",
    "- `____`: Esta columna contiene el salario de una persona, ya que el salario puede afectar las compras de una persona.\n",
    "\n",
    "Y la columna a predecir es:\n",
    "- `____`: Contiene dos números \"0\" o \"1\". '0' significa no comprado y '1' significa comprado. "
   ]
  },
  {
   "cell_type": "code",
   "execution_count": null,
   "metadata": {},
   "outputs": [],
   "source": [
    "# Veamos una descripción de todas las columnas, que tipo de columna es y si hay datos faltantes\n",
    "social_df.____"
   ]
  },
  {
   "cell_type": "markdown",
   "metadata": {},
   "source": [
    "Tenemos ____ columnas de tipo entero, ____ columnas de tipo flotante y ____ es una columna de strings.\n",
    "\n",
    "No hay datos nulos.\n",
    "\n",
    "La columna ____ es una columna que identifica a los usuarios, en el contexto del objetivo que estamos buscando, no nos sirve, por lo que vamos a eliminarla."
   ]
  },
  {
   "cell_type": "code",
   "execution_count": null,
   "metadata": {},
   "outputs": [],
   "source": [
    "social_df.drop(columns=\"____\", inplace=True)"
   ]
  },
  {
   "cell_type": "markdown",
   "metadata": {},
   "source": [
    "Veamos ahora la distribución de los datos"
   ]
  },
  {
   "cell_type": "code",
   "execution_count": null,
   "metadata": {},
   "outputs": [],
   "source": [
    "social_df.____"
   ]
  },
  {
   "cell_type": "markdown",
   "metadata": {},
   "source": [
    "Veamos los histogramas de los atributos numericos"
   ]
  },
  {
   "cell_type": "code",
   "execution_count": null,
   "metadata": {},
   "outputs": [],
   "source": [
    "fig, ax = plt.subplots(1, 2, figsize=(8, 3))\n",
    "sns.histplot(data=____, x=\"Age\", ax=ax[0], bins=10)\n",
    "sns.histplot(data=____, x=\"____\", ax=ax[____], bins=30)\n",
    "plt.tight_layout()\n",
    "plt.plot()"
   ]
  },
  {
   "cell_type": "markdown",
   "metadata": {},
   "source": [
    "De los histogramas de los atributos, vemos que en edad tenemos una distribución uniforme hasta llegar a aproximadamente los 35 años, ahi estan la mayoria de los usuarios entre 35 y 45, luego tenemos en una distribución uniforme de edades hasta llegar a los 60 pero en menor cantidad de usuarios.\n",
    "\n",
    "Por otro lado, el salario, tenemos una distribución uniforme entre 25000 y 100000 y luego otra en mucho menor tamaño entre 100000 y 150000. Es decir, la mayoria de los usarios ganan entre 25000 y 100000.\n",
    "\n",
    "Veamos la distribución del género:"
   ]
  },
  {
   "cell_type": "code",
   "execution_count": null,
   "metadata": {},
   "outputs": [],
   "source": [
    "social_df[\"____\"].value_counts()"
   ]
  },
  {
   "cell_type": "code",
   "execution_count": null,
   "metadata": {},
   "outputs": [],
   "source": [
    "fig, ax = plt.subplots(1, 1, figsize=(6, 3))\n",
    "sns.countplot(data=____, x=\"____\", ax=ax);\n",
    "ax.set_ylabel(\"Cuenta\")\n",
    "plt.tight_layout();"
   ]
  },
  {
   "cell_type": "markdown",
   "metadata": {},
   "source": [
    "Vemos que en este dataset tenemos dos generos y estos presentan una distribución bastante pareja\n",
    "\n",
    "2. Genere gráficos de cajas de los diferentes atributos separando por clase (compro o no el producto). Entre los atributos, se observa alguna diferencia en lo gráficos de cajas?"
   ]
  },
  {
   "cell_type": "code",
   "execution_count": null,
   "metadata": {},
   "outputs": [],
   "source": [
    "fig, ax = plt.subplots(1, 1, figsize=(6, 3))\n",
    "sns.barplot(data=____, y=\"Purchased\", x=\"Gender\", errorbar=None)\n",
    "ax.set_ylabel(\"Proporción de compra\");\n",
    "plt.tight_layout();"
   ]
  },
  {
   "cell_type": "markdown",
   "metadata": {},
   "source": [
    "Vemos que hay mas mujeres que compran que hombres para esta campaña, aunque la diferencia es muy poca.\n",
    "\n",
    "Vemos el grafico de caja de las demas variables"
   ]
  },
  {
   "cell_type": "code",
   "execution_count": null,
   "metadata": {},
   "outputs": [],
   "source": [
    "fig, ax = plt.subplots(1, 2, figsize=(6.7, 3))\n",
    "sns.boxplot(data=____, x=\"Purchased\", y=\"____\", ax=ax[0])\n",
    "sns.boxplot(____)\n",
    "plt.tight_layout();"
   ]
  },
  {
   "cell_type": "markdown",
   "metadata": {},
   "source": [
    "Vemos que la edad es un atributo que marca muy fuerte quien compra o no el producto. Por otro lado, el salario estimado vemos que los que no compran tienen un salario menor y con menos variación."
   ]
  },
  {
   "cell_type": "markdown",
   "metadata": {},
   "source": [
    "3. Analize las clases, estan balanceadas, o no? Qué clase nos parece mas importante de las dos?"
   ]
  },
  {
   "cell_type": "code",
   "execution_count": null,
   "metadata": {},
   "outputs": [],
   "source": [
    "social_df[\"____\"].value_counts(normalize=True)"
   ]
  },
  {
   "cell_type": "markdown",
   "metadata": {},
   "source": [
    "Un 65% aproximadamente no compro y 35% si compro. Lo cual es una buena distribución, no tenemos un gran desbalance de clases. \n",
    "\n",
    "4. Separe el dataset en entrenamiento y validación. Utilice 70%-30%.\n",
    "\n",
    "Previo a esto vamos a transformar a la variable genero en numerica usando codificación dummy"
   ]
  },
  {
   "cell_type": "code",
   "execution_count": null,
   "metadata": {},
   "outputs": [],
   "source": [
    "social_df = ____.get_dummies(____, columns=[\"Gender\"], drop_first=True)\n",
    "# Reacomodamos la columna para dejar al final el target\n",
    "# Esto no es obligatorio pero deja mas prolijo a nuestro dataset.\n",
    "social_df = social_df[['Age', 'EstimatedSalary', 'Gender_Male', 'Purchased']]"
   ]
  },
  {
   "cell_type": "code",
   "execution_count": null,
   "metadata": {},
   "outputs": [],
   "source": [
    "# Obtenemos a X e y. Recordar que X debe ser un array de dos dimensiones\n",
    "X = social_df.drop(columns=\"____\").values\n",
    "y = social_df[\"____\"].values\n",
    "\n",
    "print(f\"La forma de X es {X.shape}\")\n",
    "print(f\"La forma de y es {y.____}\")"
   ]
  },
  {
   "cell_type": "code",
   "execution_count": null,
   "metadata": {},
   "outputs": [],
   "source": [
    "# Separamos el dataset en training y test\n",
    "from sklearn.model_selection import ____\n",
    "\n",
    "# Usamos el argumento opcional para que se mantenga la proporcion en los conjuntos de entrenamiento y testeo. \n",
    "X_train, X_test, y_train, y_test = train_test_split(____, ____, test_size=.3, random_state=42, stratify=y)\n",
    "\n",
    "# Vamos a escalar a todas la entradas para no tener problemas de escala en el modelo\n",
    "from sklearn.preprocessing import StandardScaler\n",
    "sc_X = ____()\n",
    "\n",
    "____ = sc_X.fit_transform(____) # usamos fit para crear el escalado y aplicar conjunto de entrenamiento\n",
    "____ = sc_X.transform(____) # solo hacemos el transform ya que fue escalado anteriormente"
   ]
  },
  {
   "cell_type": "markdown",
   "metadata": {},
   "source": [
    "5. Determine que métrica se va a usar para evaluar la calidad de los modelos. Tenga en cuenta el balanceo de clases, y que objetivo se busca tener (por ejemplo, queremos predecir las mayor cantidad de personas que compran a expensas de tener falsos positivos o tener mucha seguridad a la hora de decir que una persona compra a expensa de tener falsos negativos).\n",
    "\n",
    "(OBS: Esta decisiones son tomadas para esta guia, pero ustedes pueden elegir otras metricas y decisiones)\n",
    "\n",
    "En nuestro caso nos interesa saber más quienes compran de los que no. No es que para nada importante los usuarios que no compran, pero nos importa más quienes, asi podemos determinar un perfil socioeconomico de los usuarios qeu compran le producto. Por lo que queremos que el modelo cuando diga que la persona compra, es muy seguro que si lo hace. Esto es porque asi podemos armar un buen perfil socioeconomico del mismo. \n",
    "\n",
    "Entonces, vamos a usar la matriz de confusión y el score F0.5 que le da mas pesos a la precision que a la recuperación.\n",
    "\n",
    "6. Construya un modelo de regresión logística, el cual se intente predecir si una persona compró el producto o no."
   ]
  },
  {
   "cell_type": "code",
   "execution_count": null,
   "metadata": {},
   "outputs": [],
   "source": [
    "from sklearn.linear_model import LogisticRegression\n",
    "logistic = ____(random_state = 0)\n",
    "\n",
    "# 1. Entrene el modelo con el set de entrenamiento.\n",
    "logistic.____(X_train, ____)\n",
    "\n",
    "# 2. Evalúe el modelo con la métrica de evaluación.\n",
    "from sklearn.metrics import confusion_matrix, ConfusionMatrixDisplay, ____\n",
    "y_pred = logistic.predict(____)\n",
    "\n",
    "f0_5_logistic = fbeta_score(y_test, y_pred, zero_division=0, beta=0.5)\n",
    "\n",
    "print(f\"F0.5-score: {____}\")"
   ]
  },
  {
   "cell_type": "code",
   "execution_count": null,
   "metadata": {},
   "outputs": [],
   "source": [
    "cm_logistic = confusion_matrix(____, ____)\n",
    "\n",
    "disp = ConfusionMatrixDisplay(confusion_matrix=____,\n",
    "                              display_labels=logistic.classes_)\n",
    "\n",
    "fig, ax = plt.subplots(figsize=(6,6))\n",
    "ax.grid(False)\n",
    "disp.plot(ax=ax)\n",
    "ax.set_title(\"Clasificador logistico\");"
   ]
  },
  {
   "cell_type": "markdown",
   "metadata": {},
   "source": [
    "(Opcional) Cree una curva ROC para evaluar el modelo para ver la calidad del modelo, sin depender del valor umbral. Elija un valor umbral que considere más optimo (usando AUC) y vuelva a clasificar usando ese valor.\n",
    "\n",
    "Este punto no lo realizamos ya que es opcional. Si lo hacen, tienen mas puntos, pero sin ayuda en este caso.\n",
    "\n",
    "----\n",
    "\n",
    "7. Construya un modelo de KNN, el cual se intente predecir si una persona compró el producto o no."
   ]
  },
  {
   "cell_type": "code",
   "execution_count": null,
   "metadata": {},
   "outputs": [],
   "source": [
    "# 1. Este modelo se debe definir el numero de vecinos. Cree 4 modelos con K = 1, 3, 5 y 13 \n",
    "from sklearn.neighbors import KNeighborsClassifier\n",
    "\n",
    "# Elegimos la distancia euclideana\n",
    "classifier_knn_1 = ____(n_neighbors=1, metric=\"euclidean\")\n",
    "classifier_knn_3 = ____(n_neighbors=____, metric=\"____\")\n",
    "classifier_knn_5 = ____(____)\n",
    "classifier_knn_13 = ____\n",
    "\n",
    "# 2. Entrene los modelos con el set de entrenamiento.\n",
    "classifier_knn_1.____(____, ____)\n",
    "classifier_knn_3.____(____, ____)\n",
    "classifier_knn_5.____(____, ____)\n",
    "classifier_knn_13.____(____, ____)\n",
    "\n",
    "# 3. Evalúe los modelos con la métrica de evaluación.\n",
    "y_pred_knn_1 = classifier_knn_1.____(X_test)\n",
    "y_pred_knn_3 = ____.predict(X_test)\n",
    "y_pred_knn_5 = classifier_knn_5.____(____)\n",
    "y_pred_knn_13 = ____\n",
    "\n",
    "f0_5_knn_1 = fbeta_score(y_test, ____, zero_division=0, beta=0.5)\n",
    "f0_5_knn_3 = fbeta_score(____, ____, zero_division=____, beta=____)\n",
    "f0_5_knn_5 = ____\n",
    "f0_5_knn_13 = ____\n",
    "\n",
    "print(f\"F0.5-score de KNN con 1 vecino: {f0_5_knn_1}\")\n",
    "print(f\"F0.5-score de KNN con 3 vecinos: {f0_5_knn_3}\")\n",
    "print(f\"F0.5-score de KNN con 5 vecinos: {f0_5_knn_5}\")\n",
    "print(f\"F0.5-score de KNN con 13 vecinos: {f0_5_knn_13}\")\n"
   ]
  },
  {
   "cell_type": "markdown",
   "metadata": {},
   "source": [
    "Vemos que el mejor modelo de los cuatro es el de ____ vecinos. Obtengamos la matriz de confusión de este modelo."
   ]
  },
  {
   "cell_type": "code",
   "execution_count": null,
   "metadata": {},
   "outputs": [],
   "source": [
    "cm_knn = confusion_matrix(y_test, ____)\n",
    "\n",
    "disp = ConfusionMatrixDisplay(confusion_matrix=cm_knn,\n",
    "                              display_labels=____.classes_)\n",
    "\n",
    "fig, ax = plt.subplots(figsize=(6,6))\n",
    "ax.grid(False)\n",
    "disp.plot(ax=ax)\n",
    "ax.set_title(\"Clasificador KNN de ____ vecinos\");"
   ]
  },
  {
   "cell_type": "markdown",
   "metadata": {},
   "source": [
    "5. Compare el mejor modelo de regresión logistica y el mejor modelo de KNN. Cual fue el mejor modelo? Discuta los resultados.\n",
    "\n",
    "Esto se deja a ustedes qeu discutan. \n",
    "\n",
    "Esto lo dejo a modo de comentario, no es necesario discutir esto:\n",
    "\n",
    "Si quieren entender la importancia de cada caracteristica de un usuario pueden ver los valores de 'logistic.coef_'. Cuando mas grande en magnitud es mas importante y el signo nos indica para que sentido del atributo hace que clasifica como que compro (por ejemplo si el coeficiente de la edad es positivo, cuando mas grande sea la edad es mas probable que compre).\n",
    "\n",
    "Un punto importante que la regresión logistica no funciona muy bien es que la cada atributo no es independiente entre si. Los perfiles socioeconomicos son dependientes, la edad no es independiente del genero y del nivel socioeconomico. Una mujer de 45 años con un ingreso bajo es un perfil totalmente diferente de una mujer de 45 años con ingresos altos, independientemente que ambos tengas 45 años. El modelo de regresión logistica asume qeu estas cualidades son independientes. Si quieren podrian construir perfiles de usuarios que comprarian el producto creando entradas a evaluar, \n",
    "\n",
    "Por ejemplo, armar una entrada del modelo de mujer de 45 años que gana $125.000 anuales y ver la salida del modelo (previo a ver normalizado al entrada usando el normalizador que denimos). Con esto podemos construir entre 1 y 5 perfiles de clientes para que le informemos a los stakeholders. Es recomendable usar el modelo KNN para esto."
   ]
  }
 ],
 "metadata": {
  "kernelspec": {
   "display_name": "notebook_env_python3_11",
   "language": "python",
   "name": "python3"
  },
  "language_info": {
   "codemirror_mode": {
    "name": "ipython",
    "version": 3
   },
   "file_extension": ".py",
   "mimetype": "text/x-python",
   "name": "python",
   "nbconvert_exporter": "python",
   "pygments_lexer": "ipython3",
   "version": "3.11.6"
  }
 },
 "nbformat": 4,
 "nbformat_minor": 2
}
