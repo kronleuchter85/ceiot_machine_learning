{
 "cells": [
  {
   "cell_type": "code",
   "execution_count": null,
   "metadata": {},
   "outputs": [],
   "source": [
    "import pandas as pd\n",
    "import numpy as np\n",
    "import matplotlib.pyplot as plt\n",
    "import seaborn as sns\n",
    "sns.set()"
   ]
  },
  {
   "cell_type": "markdown",
   "metadata": {},
   "source": [
    "# Ejercicio de regresión para entregar\n",
    "\n",
    "Vamos a trabajar con el dataset de vinos proveniente de [Kaggle](https://www.kaggle.com/datasets/uciml/red-wine-quality-cortez-et-al-2009). El dataset contiene datos de vino portugués \"Vinho Verde\" en la variante tinta. Se cuenta con variables fisicoquímicas (entradas) y un puntaje de clasificación de tipo de vino. \n",
    "\n",
    "OBS: Completar las celdas vacias o las que estan incompletas si se observa `____` es para que completen."
   ]
  },
  {
   "cell_type": "code",
   "execution_count": null,
   "metadata": {},
   "outputs": [],
   "source": [
    "# Leemos el dataset\n",
    "wine_df = pd.____(\"____\")"
   ]
  },
  {
   "cell_type": "markdown",
   "metadata": {},
   "source": [
    "Vamos realizando los diferentes puntos pedidos en el ejercicio.\n",
    "\n",
    "1. Lea el dataset como un DataFrame de Pandas. Realice un estudio de variables. Como se llaman y que están midiendo exactamente (vea la documentación del dataset). Además, analice que tipo de variables (incluido el target) son, cuál es el rango de estas variables y cómo se distribuyen (histograma). Además, realice una matriz de correlación, ¿cuáles variables parecen estar correlacionadas? y con respectos a la calidad del vino?"
   ]
  },
  {
   "cell_type": "markdown",
   "metadata": {},
   "source": [
    "Vemos las primeras cinco filas del dataset"
   ]
  },
  {
   "cell_type": "code",
   "execution_count": null,
   "metadata": {},
   "outputs": [],
   "source": [
    "wine_df.____()"
   ]
  },
  {
   "cell_type": "markdown",
   "metadata": {},
   "source": [
    "Tal como podemos ver en [Modeling wine preferences by data mining from physicochemical properties By P. Cortez, A. Cerdeira, Fernando Almeida, Telmo Matos, J. Reis. 2009. Published in Decision Support Systems](https://www.sciencedirect.com/science/article/abs/pii/S0167923609001377?via%3Dihub). \n",
    "\n",
    "Los atributos del dataset son:\n",
    "- `____`: Corresponde al conjunto de ácidos orgánicos de baja volatilidad como el ácido málico, láctico, tartárico o cítrico y es inherente a las características de la muestra. Está medido en g/dm3.\n",
    "- `____`: Corresponde al conjunto de ácidos orgánicos de cadena corta que pueden extraerse de la muestra mediante un proceso de destilación: ácido fórmico, ácido acético, ácido propiónico y ácido butírico. Está medido en g/dm3.\n",
    "- `____`: Es un ácido orgánico débil, que a menudo se usa como conservante o aditivo natural en alimentos o bebidas para agregar un sabor amargo a los alimentos. Está medido en g/dm3.\n",
    "- `____`: Proviene de los azúcares naturales de la uva que quedan en un vino una vez finalizada la fermentación alcohólica. Se mide en gramos por litro. Está medido en g/dm3.\n",
    "- `____`: Pueden dar al vino un sabor salado que puede atraer a los consumidores potenciales. Está medido en g/dm3.\n",
    "- `____`: Es un aditivo en la elaboración del vino, que agrega propiedades de antioxidante y conservación. Está medido en mg/dm3.\n",
    "- `____`: Es la medida de masa divido por volumen. Está medido en g/cm3.\n",
    "- `____`: Es una escala utilizada para especificar la acidez o basicidad de una solución acuosa.\n",
    "- `____`: Son compuestos naturales que se encuentran en todos los vinos. Actúan como conservante al inhibir el crecimiento microbiano. Está medido en g/dm3.\n",
    "- `____`: El contenido de alcohol del vino varía según el tipo y la marca. Saber cuánto alcohol hay en cada botella de vino sirve para estimar el perfil de sabor del vino. Está medido en vol%.\n",
    "\n",
    "Y la columna a predecir es:\n",
    "- `____`: Es la medida de calidad del vino, calculada por al menos tres expertos en una medición ciega. La escala va de 0 (muy malo) a 10 (excelente)"
   ]
  },
  {
   "cell_type": "code",
   "execution_count": null,
   "metadata": {},
   "outputs": [],
   "source": [
    "# Veamos una descripción de todas las columnas, que tipo de columna es y si hay datos faltantes\n",
    "wine_df.____()"
   ]
  },
  {
   "cell_type": "markdown",
   "metadata": {},
   "source": [
    "Todas las columnas de atributos son ____ y no hay datos nulos.\n",
    "\n",
    "Veamos ahora la distribución de los datos"
   ]
  },
  {
   "cell_type": "code",
   "execution_count": null,
   "metadata": {},
   "outputs": [],
   "source": [
    "wine_df.____()"
   ]
  },
  {
   "cell_type": "markdown",
   "metadata": {},
   "source": [
    "Veamos los histogramas de los atributos"
   ]
  },
  {
   "cell_type": "code",
   "execution_count": null,
   "metadata": {},
   "outputs": [],
   "source": [
    "fig, ax = plt.subplots(1, 3, figsize=(10, 3))\n",
    "sns.histplot(data=wine_df, x=\"____\", ax=ax[0])\n",
    "sns.histplot(data=wine_df, x=\"____\", ax=ax[1])\n",
    "sns.histplot(data=wine_df, x=\"____\", ax=ax[2])\n",
    "plt.tight_layout()\n",
    "plt.plot()"
   ]
  },
  {
   "cell_type": "code",
   "execution_count": null,
   "metadata": {},
   "outputs": [],
   "source": [
    "fig, ax = plt.subplots(1, 3, figsize=(10, 3))\n",
    "sns.histplot(data=____, x=\"____\", ax=ax[0])\n",
    "sns.histplot(data=____, x=\"____\", ax=ax[1])\n",
    "sns.histplot(data=____, x=\"____\", ax=ax[2])\n",
    "plt.tight_layout()\n",
    "plt.plot()"
   ]
  },
  {
   "cell_type": "code",
   "execution_count": null,
   "metadata": {},
   "outputs": [],
   "source": [
    "fig, ax = plt.subplots(____)\n",
    "sns.histplot(____)\n",
    "sns.histplot(____)\n",
    "sns.histplot(____)\n",
    "plt.tight_layout()\n",
    "plt.plot()"
   ]
  },
  {
   "cell_type": "code",
   "execution_count": null,
   "metadata": {},
   "outputs": [],
   "source": [
    "fig, ax = plt.subplots(1, 2, figsize=(6.7, 3))\n",
    "sns.histplot(data=____, x=\"____\", ax=ax[____])\n",
    "sns.histplot(data=____, x=\"____\", ax=ax[____])\n",
    "plt.tight_layout()\n",
    "plt.plot()"
   ]
  },
  {
   "cell_type": "markdown",
   "metadata": {},
   "source": [
    "De los histogramas de los atributos, vemos que casi todos los atributos tienen distribuciones de datos en forma de campana. Además los atributos `____` y `____` tienen a simple vista valores alejados. \n",
    "\n",
    "Para determinar si estas distribuciones son distribuciones normales, y hacer un correcto analisis de outliers, deberiamos establecer otro tipo de herramientas estadisticas que tal como test de hipotesis. Esto está por fuera de lo que se ve en el curso.\n",
    "\n",
    "Veamos la distribución del target:"
   ]
  },
  {
   "cell_type": "code",
   "execution_count": null,
   "metadata": {},
   "outputs": [],
   "source": [
    "wine_df[\"____\"].____()"
   ]
  },
  {
   "cell_type": "markdown",
   "metadata": {},
   "source": [
    "Vemos que los vinos de calidad 5, 6 y 7 son muchos mas comunes.\n",
    "\n",
    "Armemos la matriz de correlación entre de todas las columnas del dataset:"
   ]
  },
  {
   "cell_type": "code",
   "execution_count": null,
   "metadata": {},
   "outputs": [],
   "source": [
    "plt.figure(figsize=(7, 5))\n",
    "sns.heatmap(data=np.abs(wine_df.____().round(2)), annot=True, annot_kws={\"size\": 9})\n",
    "plt.show()"
   ]
  },
  {
   "cell_type": "markdown",
   "metadata": {},
   "source": [
    "Vemos que con respecto al target los atributos con mayor correlación son:\n",
    "- `____`\n",
    "- `____` \n",
    "- `____`\n",
    "- `____`\n",
    "\n",
    "Y luego vemos que algunos atributos están correlacionados entre si:\n",
    "\n",
    "- Completar con los que observes.\n",
    "\n",
    "Recordemos que haya correlación entre atributos no es algo deseable.\n",
    "\n",
    "2. Realice si es necesario limpieza de datos y corrección de errores.\n",
    "\n",
    "Este punto se deja a ustedes que los responda despues del punto 1.\n",
    "\n",
    "---- \n",
    "3. Construya un modelo de regresión lineal simple, el cual se intente predecir la calidad del vino usando el nivel de alcohol.\n",
    "\t1. Realiza la separación entre el dataset de entrenamiento y testeo. Utilice 80%-20%."
   ]
  },
  {
   "cell_type": "code",
   "execution_count": null,
   "metadata": {},
   "outputs": [],
   "source": [
    "# Obtenemos a X e y. Recordar que X debe ser un array de dos dimensiones\n",
    "X = wine_df[[\"____\"]]\n",
    "y = wine_df[\"____\"]\n",
    "\n",
    "print(f\"La forma de X es {X.____}\")\n",
    "print(f\"La forma de y es {y.____}\")"
   ]
  },
  {
   "cell_type": "code",
   "execution_count": null,
   "metadata": {},
   "outputs": [],
   "source": [
    "# Separamos el dataset en training y test\n",
    "from sklearn.model_selection import train_test_split\n",
    "\n",
    "# Como no hay una buena distribucion de valores entre las calidades de vino, usamos el argumento opcional \n",
    "# para que se mantenga la proporcion en los conjuntos de entrenamiento y testeo. \n",
    "X_train, X_test, y_train, y_test = train_test_split(____, ____, test_size=____, random_state=42, stratify=y)"
   ]
  },
  {
   "cell_type": "markdown",
   "metadata": {},
   "source": [
    "2. Determine que métrica se va a usar para evaluar la calidad del modelo (MSE, MAE, etc.)\n",
    "\n",
    "Vamos a usar a MAE "
   ]
  },
  {
   "cell_type": "code",
   "execution_count": null,
   "metadata": {},
   "outputs": [],
   "source": [
    "from sklearn.metrics import r2_score, mean_absolute_error"
   ]
  },
  {
   "cell_type": "markdown",
   "metadata": {},
   "source": [
    "\t3. Entrene el modelo con el set de entrenamiento.\n"
   ]
  },
  {
   "cell_type": "code",
   "execution_count": null,
   "metadata": {},
   "outputs": [],
   "source": [
    "# Creamos el modelo\n",
    "from sklearn.linear_model import LinearRegression\n",
    "lin_reg_simple = ____()\n",
    "\n",
    "# Y lo entrenamos, con el set de entrenamiento\n",
    "lin_reg_simple.fit(____, ____)"
   ]
  },
  {
   "cell_type": "code",
   "execution_count": null,
   "metadata": {},
   "outputs": [],
   "source": [
    "# Esto es extra, veamos graficamente la recta:\n",
    "plt.figure(figsize=(5, 3))\n",
    "plt.title('Calidad vs. Alcohol')\n",
    "plt.xlabel('Alcohol [vol%]')\n",
    "plt.ylabel('Calidad')\n",
    "\n",
    "plt.scatter(X_train, y_train, color='green', marker=\"o\", s=60)\n",
    "plt.plot(X_train, lin_reg_simple.predict(X_train), color=\"b\", linewidth=2)\n",
    "plt.show()"
   ]
  },
  {
   "cell_type": "markdown",
   "metadata": {},
   "source": [
    "4. Evalúe el modelo con la métrica de evaluación y el coeficiente de Pearson."
   ]
  },
  {
   "cell_type": "code",
   "execution_count": null,
   "metadata": {},
   "outputs": [],
   "source": [
    "# Obtenemos la prediccion del modelo\n",
    "y_pred = lin_reg_simple.____(____)\n",
    "\n",
    "r2score_simple = r2_score(____, ____)\n",
    "mae_simple = mean_absolute_error(____, ____)\n",
    "\n",
    "print(f\"El coeficiente de Pearson del set de testeo es: {____}\")\n",
    "print(f\"El error absoluto medio es: {____}\")"
   ]
  },
  {
   "cell_type": "markdown",
   "metadata": {},
   "source": [
    "4. Construya un modelo de regresión lineal múltiple, usando todos los atributos\n",
    "\t1. Realiza la separación entre el dataset de entrenamiento y testeo. Utilice 80%-20%."
   ]
  },
  {
   "cell_type": "code",
   "execution_count": null,
   "metadata": {},
   "outputs": [],
   "source": [
    "# Obtenemos a X e y. Si usamos drop podemos eliminar filas y columnas, para el caso de todos los atributos, podemos eliminar\n",
    "# la columna correspondiente al target\n",
    "X = wine_df.drop(columns=\"____\") \n",
    "y = ____\n",
    "\n",
    "print(f\"La forma de X es {____}\")\n",
    "print(f\"La forma de y es {____}\")\n",
    "\n",
    "X_train, X_test, y_train, y_test = train_test_split(____, stratify=y)"
   ]
  },
  {
   "cell_type": "markdown",
   "metadata": {},
   "source": [
    "2. Determine que métrica se va a usar para evaluar la calidad del modelo (MSE, MAE, etc.)\n",
    "\n",
    "Se usa el mismo que el caso anterior, asi podemos comparar.\n",
    "\n",
    "3. Entrene el modelo con el set de entrenamiento."
   ]
  },
  {
   "cell_type": "code",
   "execution_count": null,
   "metadata": {},
   "outputs": [],
   "source": [
    "# Creamos el modelo\n",
    "lin_reg_multiple = ____\n",
    "\n",
    "# Y lo entrenamos, con el set de entrenamiento\n",
    "____"
   ]
  },
  {
   "cell_type": "markdown",
   "metadata": {},
   "source": [
    "4. Evalúe el modelo con la métrica de evaluación y el coeficiente de Pearson."
   ]
  },
  {
   "cell_type": "code",
   "execution_count": null,
   "metadata": {},
   "outputs": [],
   "source": [
    "# Obtenemos la prediccion del modelo\n",
    "y_pred = ____\n",
    "\n",
    "r2score_simple = ____\n",
    "mae_simple = ____\n",
    "\n",
    "print(f\"El coeficiente de Pearson del set de testeo es: {____}\")\n",
    "print(f\"El error absoluto medio es: {____}\")"
   ]
  },
  {
   "cell_type": "markdown",
   "metadata": {},
   "source": [
    "5. En función de los resultados obtenidos, discuta los modelos, y que tan bien explican la calidad del vino.\n",
    "\n",
    "Este punto se deja a ustedes viendo los resultados obtenidos."
   ]
  }
 ],
 "metadata": {
  "kernelspec": {
   "display_name": "notebook_env_python3_11",
   "language": "python",
   "name": "notebook_env_python3_11"
  },
  "language_info": {
   "codemirror_mode": {
    "name": "ipython",
    "version": 3
   },
   "file_extension": ".py",
   "mimetype": "text/x-python",
   "name": "python",
   "nbconvert_exporter": "python",
   "pygments_lexer": "ipython3",
   "version": "3.11.6"
  }
 },
 "nbformat": 4,
 "nbformat_minor": 2
}
